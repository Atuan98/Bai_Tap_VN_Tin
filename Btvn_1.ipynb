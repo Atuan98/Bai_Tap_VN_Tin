{
  "nbformat": 4,
  "nbformat_minor": 0,
  "metadata": {
    "colab": {
      "name": "Bản sao của Numpy.ipynb",
      "provenance": [],
      "collapsed_sections": []
    },
    "kernelspec": {
      "name": "python3",
      "display_name": "Python 3"
    },
    "language_info": {
      "name": "python"
    }
  },
  "cells": [
    {
      "cell_type": "markdown",
      "metadata": {
        "id": "Vc984J-OlCUF"
      },
      "source": [
        "## 1. Create a vector with values ranging from 3 to 20"
      ]
    },
    {
      "cell_type": "code",
      "metadata": {
        "id": "pLhAnHhjlYto",
        "colab": {
          "base_uri": "https://localhost:8080/"
        },
        "outputId": "a62c3454-3623-4ed5-ed2c-8bab4d7bd212"
      },
      "source": [
        "import numpy as np\n",
        "empty_list = []\n",
        "for i in range(3,20):\n",
        "  empty_list.append(i)\n",
        "a = np.array(empty_list)\n",
        "print(a)"
      ],
      "execution_count": null,
      "outputs": [
        {
          "output_type": "stream",
          "text": [
            "[ 3  4  5  6  7  8  9 10 11 12 13 14 15 16 17 18 19]\n"
          ],
          "name": "stdout"
        }
      ]
    },
    {
      "cell_type": "markdown",
      "metadata": {
        "id": "gYmeGVCSlZri"
      },
      "source": [
        "## 2. Create a 3x3 identity matrix"
      ]
    },
    {
      "cell_type": "code",
      "metadata": {
        "id": "wsCfdOBXlfvQ",
        "colab": {
          "base_uri": "https://localhost:8080/"
        },
        "outputId": "e64f34f2-c1ef-4a19-e594-762203194b1a"
      },
      "source": [
        "np.zeros((3,3), dtype = int)"
      ],
      "execution_count": null,
      "outputs": [
        {
          "output_type": "execute_result",
          "data": {
            "text/plain": [
              "array([[0, 0, 0],\n",
              "       [0, 0, 0],\n",
              "       [0, 0, 0]])"
            ]
          },
          "metadata": {
            "tags": []
          },
          "execution_count": 9
        }
      ]
    },
    {
      "cell_type": "markdown",
      "metadata": {
        "id": "3bzNKrdomH7W"
      },
      "source": [
        "## 3. Create a random vector of size 10 and sort it"
      ]
    },
    {
      "cell_type": "code",
      "metadata": {
        "id": "n-uLtxb1mKao",
        "colab": {
          "base_uri": "https://localhost:8080/"
        },
        "outputId": "f2bd9dad-e2a5-4aeb-94b7-4b89415165a8"
      },
      "source": [
        "import random\n",
        "a = np.random.uniform(low = 0, high = 10, size=(1, 10))\n",
        "a.sort(axis = -1)\n",
        "print(a)"
      ],
      "execution_count": null,
      "outputs": [
        {
          "output_type": "stream",
          "text": [
            "[[0.48228126 1.82082867 2.82370215 4.21253293 5.09365221 5.43080318\n",
            "  5.77096006 6.38539671 7.32443747 8.33353295]]\n"
          ],
          "name": "stdout"
        }
      ]
    },
    {
      "cell_type": "markdown",
      "metadata": {
        "id": "TSyfA-9Umpc_"
      },
      "source": [
        "## 4. Create a random 1-D matrix, Convert 1-D to 3-D matrix "
      ]
    },
    {
      "cell_type": "code",
      "metadata": {
        "id": "iVzI_dJDmN7r",
        "colab": {
          "base_uri": "https://localhost:8080/"
        },
        "outputId": "a73631e2-b511-40d4-c001-0bf1b79b9604"
      },
      "source": [
        "a = np.random.uniform(low = 0, high = 5, size=(1,9))\n",
        "a.reshape(3,3)\n",
        "print(a.reshape(3,3))"
      ],
      "execution_count": null,
      "outputs": [
        {
          "output_type": "stream",
          "text": [
            "[[4.20154212 0.65842481 1.85005042]\n",
            " [4.28416479 2.43561109 1.3444207 ]\n",
            " [1.49756806 2.40508219 1.87122293]]\n"
          ],
          "name": "stdout"
        }
      ]
    },
    {
      "cell_type": "markdown",
      "metadata": {
        "id": "zgvoJZvXnbQV"
      },
      "source": [
        "# 5. Create 2 numpy arrays as matrices (random) , Print the result of multiplying the 2 matrices (as a numpy array)"
      ]
    },
    {
      "cell_type": "code",
      "metadata": {
        "id": "LJ2aruu7nLMt",
        "colab": {
          "base_uri": "https://localhost:8080/"
        },
        "outputId": "706ed760-cb48-495e-ef30-3bdcdff786c9"
      },
      "source": [
        "a = np.random.uniform(low= 1, high=5, size=(3,3))\n",
        "b = np.random.uniform(10, 20, (3,2))\n",
        "c = a.dot(b)\n",
        "print(type(c))"
      ],
      "execution_count": null,
      "outputs": [
        {
          "output_type": "stream",
          "text": [
            "<class 'numpy.ndarray'>\n"
          ],
          "name": "stdout"
        }
      ]
    },
    {
      "cell_type": "markdown",
      "metadata": {
        "id": "YmuSesEPnyEF"
      },
      "source": [
        "## 6. Create a 5*5 matrix (random ) , print the first three rows and first 2 columns"
      ]
    },
    {
      "cell_type": "code",
      "metadata": {
        "id": "ZiKmspv8pjra",
        "colab": {
          "base_uri": "https://localhost:8080/"
        },
        "outputId": "28262236-0ff0-45ec-dbcc-966a79103f0d"
      },
      "source": [
        "a = np.random.uniform(1, 10, (5,5))\n",
        "print(a)\n",
        "print(\"The first three rows\", a[0], a[1], a[2])\n",
        "print(\"The first 2 columns\", a[0][0], a[0][1], a[0][2], a[0][3], a[0][4],\"\\n\\t\\t\", a[1][0], a[1][1], a[1][2], a[1][3], a[1][4])"
      ],
      "execution_count": null,
      "outputs": [
        {
          "output_type": "stream",
          "text": [
            "[[5.74565544 9.05576616 9.3801189  4.03135734 6.36512769]\n",
            " [7.30389287 1.50454749 8.09932796 6.81286037 1.75859207]\n",
            " [9.43809598 6.23331452 5.74059559 7.97566071 1.38406458]\n",
            " [8.91962053 3.14808287 7.61262444 8.78004981 8.40842087]\n",
            " [5.28419404 7.32737684 1.0668657  3.9474371  9.10056693]]\n",
            "The first three rows [5.74565544 9.05576616 9.3801189  4.03135734 6.36512769] [7.30389287 1.50454749 8.09932796 6.81286037 1.75859207] [9.43809598 6.23331452 5.74059559 7.97566071 1.38406458]\n",
            "The first 2 columns 5.74565543882711 9.055766163907734 9.380118896214798 4.0313573395871725 6.365127693798985 \n",
            "\t\t 7.303892873011924 1.5045474936223218 8.099327955058701 6.812860371695688 1.7585920660941254\n"
          ],
          "name": "stdout"
        }
      ]
    },
    {
      "cell_type": "markdown",
      "metadata": {
        "id": "vM69m-Myq_fs"
      },
      "source": [
        "## 7. Create a 5*10 matrix , print subtract the mean of each row of a matrix"
      ]
    },
    {
      "cell_type": "code",
      "metadata": {
        "id": "E8DqA5kmq3E1",
        "colab": {
          "base_uri": "https://localhost:8080/"
        },
        "outputId": "abbd57fa-5089-4e65-8da4-3ab4c87be9ac"
      },
      "source": [
        "a = np.random.uniform(1, 10, (5,10))\n",
        "b = a - a.mean(axis = 1, keepdims= True)\n",
        "print(b)"
      ],
      "execution_count": null,
      "outputs": [
        {
          "output_type": "stream",
          "text": [
            "[[-1.19862867  1.40081548 -1.06750052  0.02249246 -3.70823912 -3.05431448\n",
            "  -3.23750498  5.0653652   5.01873973  0.75877491]\n",
            " [-2.05192885 -0.83550898  3.45420294  1.55066373 -0.49518328 -2.65294884\n",
            "  -1.03691015  3.15860514 -3.63263319  2.54164149]\n",
            " [-1.65192222 -1.04693164  0.20965686  0.19433564  0.10499022 -2.27615896\n",
            "   1.73203645  0.32807384  3.00800389 -0.60208408]\n",
            " [-1.40356591  0.98661756  0.66634186 -2.80268715  1.2325393   2.24774876\n",
            "   1.41544626  1.23101684 -2.49059113 -1.08286639]\n",
            " [ 3.77295067 -0.33755304  4.52744186 -2.22432    -1.1655759   3.09787978\n",
            "  -3.19752603 -4.21837755 -0.71042161  0.45550181]]\n"
          ],
          "name": "stdout"
        }
      ]
    },
    {
      "cell_type": "markdown",
      "metadata": {
        "id": "-FKKKpS2sb73"
      },
      "source": [
        "# 8. Create random vector of size 10 and replace the minimum value by 100000"
      ]
    },
    {
      "cell_type": "code",
      "metadata": {
        "id": "5PQ43rIlsj1c",
        "colab": {
          "base_uri": "https://localhost:8080/"
        },
        "outputId": "0c55f0d8-c306-4365-e272-4eb8f4b0b1d5"
      },
      "source": [
        "a = np.random.uniform(low = 0, high = 10, size=(1, 10))\n",
        "print(a)\n",
        "print(a.min())\n",
        "b = np.where(a == a.min(), 100000, a)\n",
        "print(b)"
      ],
      "execution_count": null,
      "outputs": [
        {
          "output_type": "stream",
          "text": [
            "[[8.22411386 1.35246866 7.85243562 0.47035658 8.78826162 1.34549258\n",
            "  1.64630976 2.72114084 6.69811746 7.71764218]]\n",
            "0.4703565829256129\n",
            "[[8.22411386e+00 1.35246866e+00 7.85243562e+00 1.00000000e+05\n",
            "  8.78826162e+00 1.34549258e+00 1.64630976e+00 2.72114084e+00\n",
            "  6.69811746e+00 7.71764218e+00]]\n"
          ],
          "name": "stdout"
        }
      ]
    },
    {
      "cell_type": "markdown",
      "metadata": {
        "id": "wMkGtJoBsmhR"
      },
      "source": [
        "## 9. Consider an array of dimension (4,4,3), how to mulitply it by an array with dimensions (4,4)? "
      ]
    },
    {
      "cell_type": "code",
      "metadata": {
        "id": "xXoQ1sjdtPyi",
        "colab": {
          "base_uri": "https://localhost:8080/"
        },
        "outputId": "235d13c6-cbe2-481d-cf1e-e015e24cdbf9"
      },
      "source": [
        "A = np.ones((4,4,3))\n",
        "B = 2*np.ones((4,4))\n",
        "print(A * B[:,:,None])"
      ],
      "execution_count": null,
      "outputs": [
        {
          "output_type": "stream",
          "text": [
            "[[[2. 2. 2.]\n",
            "  [2. 2. 2.]\n",
            "  [2. 2. 2.]\n",
            "  [2. 2. 2.]]\n",
            "\n",
            " [[2. 2. 2.]\n",
            "  [2. 2. 2.]\n",
            "  [2. 2. 2.]\n",
            "  [2. 2. 2.]]\n",
            "\n",
            " [[2. 2. 2.]\n",
            "  [2. 2. 2.]\n",
            "  [2. 2. 2.]\n",
            "  [2. 2. 2.]]\n",
            "\n",
            " [[2. 2. 2.]\n",
            "  [2. 2. 2.]\n",
            "  [2. 2. 2.]\n",
            "  [2. 2. 2.]]]\n"
          ],
          "name": "stdout"
        }
      ]
    },
    {
      "cell_type": "markdown",
      "metadata": {
        "id": "nALFADNvuV21"
      },
      "source": [
        "#10.  Normalize an array below so the values range exactly between 0 and 1"
      ]
    },
    {
      "cell_type": "code",
      "metadata": {
        "id": "YwlokA2Nti1H",
        "colab": {
          "base_uri": "https://localhost:8080/"
        },
        "outputId": "2bd6f8c2-2e27-405f-fedd-dd374eca95be"
      },
      "source": [
        "url = 'https://archive.ics.uci.edu/ml/machine-learning-databases/iris/iris.data'\n",
        "a = np.genfromtxt(url, delimiter=',', dtype='float', usecols=[0])\n",
        "print(a, min(a), max(a))\n",
        "print((a - min(a))/(max(a)-min(a)))"
      ],
      "execution_count": null,
      "outputs": [
        {
          "output_type": "stream",
          "text": [
            "[5.1 4.9 4.7 4.6 5.  5.4 4.6 5.  4.4 4.9 5.4 4.8 4.8 4.3 5.8 5.7 5.4 5.1\n",
            " 5.7 5.1 5.4 5.1 4.6 5.1 4.8 5.  5.  5.2 5.2 4.7 4.8 5.4 5.2 5.5 4.9 5.\n",
            " 5.5 4.9 4.4 5.1 5.  4.5 4.4 5.  5.1 4.8 5.1 4.6 5.3 5.  7.  6.4 6.9 5.5\n",
            " 6.5 5.7 6.3 4.9 6.6 5.2 5.  5.9 6.  6.1 5.6 6.7 5.6 5.8 6.2 5.6 5.9 6.1\n",
            " 6.3 6.1 6.4 6.6 6.8 6.7 6.  5.7 5.5 5.5 5.8 6.  5.4 6.  6.7 6.3 5.6 5.5\n",
            " 5.5 6.1 5.8 5.  5.6 5.7 5.7 6.2 5.1 5.7 6.3 5.8 7.1 6.3 6.5 7.6 4.9 7.3\n",
            " 6.7 7.2 6.5 6.4 6.8 5.7 5.8 6.4 6.5 7.7 7.7 6.  6.9 5.6 7.7 6.3 6.7 7.2\n",
            " 6.2 6.1 6.4 7.2 7.4 7.9 6.4 6.3 6.1 7.7 6.3 6.4 6.  6.9 6.7 6.9 5.8 6.8\n",
            " 6.7 6.7 6.3 6.5 6.2 5.9] 4.3 7.9\n",
            "[0.22222222 0.16666667 0.11111111 0.08333333 0.19444444 0.30555556\n",
            " 0.08333333 0.19444444 0.02777778 0.16666667 0.30555556 0.13888889\n",
            " 0.13888889 0.         0.41666667 0.38888889 0.30555556 0.22222222\n",
            " 0.38888889 0.22222222 0.30555556 0.22222222 0.08333333 0.22222222\n",
            " 0.13888889 0.19444444 0.19444444 0.25       0.25       0.11111111\n",
            " 0.13888889 0.30555556 0.25       0.33333333 0.16666667 0.19444444\n",
            " 0.33333333 0.16666667 0.02777778 0.22222222 0.19444444 0.05555556\n",
            " 0.02777778 0.19444444 0.22222222 0.13888889 0.22222222 0.08333333\n",
            " 0.27777778 0.19444444 0.75       0.58333333 0.72222222 0.33333333\n",
            " 0.61111111 0.38888889 0.55555556 0.16666667 0.63888889 0.25\n",
            " 0.19444444 0.44444444 0.47222222 0.5        0.36111111 0.66666667\n",
            " 0.36111111 0.41666667 0.52777778 0.36111111 0.44444444 0.5\n",
            " 0.55555556 0.5        0.58333333 0.63888889 0.69444444 0.66666667\n",
            " 0.47222222 0.38888889 0.33333333 0.33333333 0.41666667 0.47222222\n",
            " 0.30555556 0.47222222 0.66666667 0.55555556 0.36111111 0.33333333\n",
            " 0.33333333 0.5        0.41666667 0.19444444 0.36111111 0.38888889\n",
            " 0.38888889 0.52777778 0.22222222 0.38888889 0.55555556 0.41666667\n",
            " 0.77777778 0.55555556 0.61111111 0.91666667 0.16666667 0.83333333\n",
            " 0.66666667 0.80555556 0.61111111 0.58333333 0.69444444 0.38888889\n",
            " 0.41666667 0.58333333 0.61111111 0.94444444 0.94444444 0.47222222\n",
            " 0.72222222 0.36111111 0.94444444 0.55555556 0.66666667 0.80555556\n",
            " 0.52777778 0.5        0.58333333 0.80555556 0.86111111 1.\n",
            " 0.58333333 0.55555556 0.5        0.94444444 0.55555556 0.58333333\n",
            " 0.47222222 0.72222222 0.66666667 0.72222222 0.41666667 0.69444444\n",
            " 0.66666667 0.66666667 0.55555556 0.61111111 0.52777778 0.44444444]\n"
          ],
          "name": "stdout"
        }
      ]
    },
    {
      "cell_type": "code",
      "metadata": {
        "id": "0bSDhCqIuccy"
      },
      "source": [
        ""
      ],
      "execution_count": null,
      "outputs": []
    }
  ]
}