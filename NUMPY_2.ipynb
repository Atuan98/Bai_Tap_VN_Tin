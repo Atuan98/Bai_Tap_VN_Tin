{
 "cells": [
  {
   "cell_type": "code",
   "execution_count": 2,
   "metadata": {
    "id": "-30aL2ERfm0T"
   },
   "outputs": [],
   "source": [
    "import numpy as np"
   ]
  },
  {
   "cell_type": "markdown",
   "metadata": {
    "id": "fGREgAtlfDNl"
   },
   "source": [
    "## 1. Xóa hàng bất kỳ nào mà nó chứa các giá trị không phải là số "
   ]
  },
  {
   "cell_type": "code",
   "execution_count": 131,
   "metadata": {
    "id": "qYtCRtEHflZQ"
   },
   "outputs": [],
   "source": [
    "n_arr = np.array([[10.5, 22.5, 3.8, 5],\n",
    "                  [23.45, 50, 78.7, 3.5],\n",
    "                  [41, np.nan, np.nan, 0],\n",
    "                  [20, 50.20, np.nan, 2.5],\n",
    "                  [18.8, 50.60, 8.8, 58.6]])\n"
   ]
  },
  {
   "cell_type": "code",
   "execution_count": 132,
   "metadata": {},
   "outputs": [
    {
     "data": {
      "text/plain": [
       "array([[10.5 , 22.5 ,  3.8 ,  5.  ],\n",
       "       [23.45, 50.  , 78.7 ,  3.5 ],\n",
       "       [18.8 , 50.6 ,  8.8 , 58.6 ]])"
      ]
     },
     "execution_count": 132,
     "metadata": {},
     "output_type": "execute_result"
    }
   ],
   "source": [
    "sum_ = np.sum(n_arr, axis = 1)\n",
    "k = 0\n",
    "for i in range(len(sum_)):\n",
    "    if np.isnan(sum_[i]) == True:\n",
    "        n_arr = np.delete(n_arr,i - k, 0)\n",
    "        k += 1\n",
    "n_arr"
   ]
  },
  {
   "cell_type": "raw",
   "metadata": {
    "id": "2sc4iFVXe0Tl"
   },
   "source": [
    "## 2. So sánh  2 arrays ( so sánh tổng thế và từng phần tử )\n"
   ]
  },
  {
   "cell_type": "code",
   "execution_count": 134,
   "metadata": {
    "id": "6BKVq_gugWBX"
   },
   "outputs": [],
   "source": [
    "a = np.array([101, 99, 87])\n",
    "b = np.array([897, 97, 111])"
   ]
  },
  {
   "cell_type": "code",
   "execution_count": 146,
   "metadata": {},
   "outputs": [
    {
     "name": "stdout",
     "output_type": "stream",
     "text": [
      "a < b\n",
      "[False  True False]\n"
     ]
    }
   ],
   "source": [
    "#So sanh tong the\n",
    "sum_a  = np.sum(a)\n",
    "sum_b = np.sum(b)\n",
    "if sum_a > sum_b:\n",
    "    print('a>b')\n",
    "elif sum_a < sum_b:\n",
    "    print('a < b')\n",
    "else:\n",
    "    print('a = b')\n",
    "    \n",
    "##So sanh tung ohan tu \n",
    "print(a > b, sep = ',')"
   ]
  },
  {
   "cell_type": "markdown",
   "metadata": {
    "id": "L-yyltJahrcT"
   },
   "source": [
    "## 3. Tìm ma trận nghịch đảo "
   ]
  },
  {
   "cell_type": "code",
   "execution_count": 149,
   "metadata": {
    "id": "EGlhLBKygd2A"
   },
   "outputs": [],
   "source": [
    "A = np.array([[[1., 2.], [3., 4.]],\n",
    "              [[1, 3], [3, 5]]])"
   ]
  },
  {
   "cell_type": "code",
   "execution_count": 186,
   "metadata": {},
   "outputs": [
    {
     "data": {
      "text/plain": [
       "array([[[-2.  ,  1.  ],\n",
       "        [ 1.5 , -0.5 ]],\n",
       "\n",
       "       [[-1.25,  0.75],\n",
       "        [ 0.75, -0.25]]])"
      ]
     },
     "execution_count": 186,
     "metadata": {},
     "output_type": "execute_result"
    }
   ],
   "source": [
    "m = np.matrix(A[0])\n",
    "A[0] = m\n",
    "b = np.matrix(A[1]).I\n",
    "A[1] = b\n",
    "A"
   ]
  },
  {
   "cell_type": "markdown",
   "metadata": {
    "id": "okND23RniUgG"
   },
   "source": [
    "## 4. Tìm vị trí của phần tử bằng 0"
   ]
  },
  {
   "cell_type": "code",
   "execution_count": 195,
   "metadata": {
    "id": "RRYh2tTniUIY"
   },
   "outputs": [
    {
     "data": {
      "text/plain": [
       "(array([0, 1, 2, 2], dtype=int64), array([0, 2, 0, 1], dtype=int64))"
      ]
     },
     "execution_count": 195,
     "metadata": {},
     "output_type": "execute_result"
    }
   ],
   "source": [
    "n_array = np.array([[0, 2, 3],\n",
    "                    [4, 1, 0],\n",
    "                    [0, 0, 2]])\n",
    "\n",
    "a = np.where(n_array == 0)\n",
    "\n",
    "l_index = list(zip(a[0], a[1]))\n",
    "l_index, "
   ]
  },
  {
   "cell_type": "markdown",
   "metadata": {
    "id": "UHEzw_u9kWAH"
   },
   "source": [
    "## 5. Chuyển thành uppercase của tất cả phần tử trong array ( ngắn gọn )"
   ]
  },
  {
   "cell_type": "code",
   "execution_count": 203,
   "metadata": {
    "id": "5ys0Hss1h8SU"
   },
   "outputs": [
    {
     "data": {
      "text/plain": [
       "array(['P4Q R', '4Q RP', 'Q RP4', 'RP4Q'], dtype='<U5')"
      ]
     },
     "execution_count": 203,
     "metadata": {},
     "output_type": "execute_result"
    }
   ],
   "source": [
    "in_arr = np.array(['p4q r', '4q rp', 'q rp4', 'rp4q']);\n",
    "np.char.upper(in_arr)"
   ]
  },
  {
   "cell_type": "markdown",
   "metadata": {
    "id": "wUb1jJwUkyej"
   },
   "source": [
    "## 6. Chuyển numpy array sang csv file"
   ]
  },
  {
   "cell_type": "code",
   "execution_count": 213,
   "metadata": {
    "id": "zMEkC-b3lla5"
   },
   "outputs": [],
   "source": [
    "arr = np.arange(1,11).reshape(2,5)\n",
    "import pandas as pd\n",
    "df = pd.DataFrame(arr)\n",
    "df.to_csv(\"data.scv\")"
   ]
  },
  {
   "cell_type": "markdown",
   "metadata": {
    "id": "ZMDyzlsek-2Z"
   },
   "source": [
    "## 7. Tính khoảng cách *Euclidean*"
   ]
  },
  {
   "cell_type": "code",
   "execution_count": 217,
   "metadata": {
    "id": "K5nfxdPxkU-1"
   },
   "outputs": [
    {
     "data": {
      "text/plain": [
       "2.23606797749979"
      ]
     },
     "execution_count": 217,
     "metadata": {},
     "output_type": "execute_result"
    }
   ],
   "source": [
    "point1 = np.array((1, 2, 3))\n",
    "point2 = np.array((1, 1, 1))\n",
    "euclidean_ = np.sqrt(np.sum((point1 - point2)**2))\n",
    "euclidean_"
   ]
  },
  {
   "cell_type": "markdown",
   "metadata": {
    "id": "_BL7qm1tlvXL"
   },
   "source": [
    "## 8. Tạo ngẫu nhiên ma trận từ Gaussian distribution"
   ]
  },
  {
   "cell_type": "code",
   "execution_count": 220,
   "metadata": {
    "id": "EIPMwdr6k90X"
   },
   "outputs": [
    {
     "data": {
      "text/plain": [
       "array([[19.30908536, 16.86541054, 22.00795316, 21.01065983, 16.7183676 ,\n",
       "        24.07437272, 18.88998101, 20.53538993, 24.29490437, 19.31788832],\n",
       "       [20.75400632, 16.32070712, 19.2574974 , 17.39697669, 18.27361506,\n",
       "        23.15269844, 20.4511924 , 21.25067313, 18.27339347, 21.98207408],\n",
       "       [23.46131888, 22.04682058, 18.18767537, 21.70083157, 16.99684496,\n",
       "        19.27364325, 18.563033  , 18.50536012, 20.30993887, 19.43304753]])"
      ]
     },
     "execution_count": 220,
     "metadata": {},
     "output_type": "execute_result"
    }
   ],
   "source": [
    "np.random.normal(loc = 20,scale = 2, size = (3, 10))"
   ]
  },
  {
   "cell_type": "markdown",
   "metadata": {
    "id": "elbqAN0FmD5I"
   },
   "source": [
    "## 9. Tìm giá trị nhỏ thứ 4 trong array  "
   ]
  },
  {
   "cell_type": "code",
   "execution_count": 231,
   "metadata": {
    "id": "RAYRH94xmQhX"
   },
   "outputs": [
    {
     "data": {
      "text/plain": [
       "5"
      ]
     },
     "execution_count": 231,
     "metadata": {},
     "output_type": "execute_result"
    }
   ],
   "source": [
    "arr = np.array([23, 12, 1, 3, 4, 5, 6])\n",
    "m = np.sort(arr)\n",
    "m[3]"
   ]
  },
  {
   "cell_type": "markdown",
   "metadata": {
    "id": "RczB-1GVmUqd"
   },
   "source": [
    "## 10. Thêm ( gộp )  hàng/cột trong array"
   ]
  },
  {
   "cell_type": "code",
   "execution_count": 249,
   "metadata": {
    "id": "7yavzTZ1mT1q"
   },
   "outputs": [
    {
     "data": {
      "text/plain": [
       "(3, 3)"
      ]
     },
     "execution_count": 249,
     "metadata": {},
     "output_type": "execute_result"
    }
   ],
   "source": [
    "ini_array = np.array([[1, 2, 3], [45, 4, 7], [9, 6, 10]])\n",
    "column_to_be_added = np.array([1, 2, 3])\n",
    "ini_array.shape"
   ]
  },
  {
   "cell_type": "code",
   "execution_count": 251,
   "metadata": {},
   "outputs": [
    {
     "data": {
      "text/plain": [
       "array([[ 1,  2,  3,  1],\n",
       "       [45,  4,  7,  2],\n",
       "       [ 9,  6, 10,  3]])"
      ]
     },
     "execution_count": 251,
     "metadata": {},
     "output_type": "execute_result"
    }
   ],
   "source": [
    "np.insert(ini_array,3, column_to_be_added, axis =1)"
   ]
  },
  {
   "cell_type": "code",
   "execution_count": null,
   "metadata": {},
   "outputs": [],
   "source": []
  }
 ],
 "metadata": {
  "colab": {
   "collapsed_sections": [],
   "name": "NUMPY_2.ipynb",
   "provenance": []
  },
  "kernelspec": {
   "display_name": "Python 3",
   "language": "python",
   "name": "python3"
  },
  "language_info": {
   "codemirror_mode": {
    "name": "ipython",
    "version": 3
   },
   "file_extension": ".py",
   "mimetype": "text/x-python",
   "name": "python",
   "nbconvert_exporter": "python",
   "pygments_lexer": "ipython3",
   "version": "3.8.8"
  }
 },
 "nbformat": 4,
 "nbformat_minor": 1
}
